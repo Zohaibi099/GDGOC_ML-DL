{
 "cells": [
  {
   "cell_type": "code",
   "execution_count": 35,
   "id": "1ec85e7e-b6fc-4b7a-a223-c407ef1c2f38",
   "metadata": {},
   "outputs": [
    {
     "data": {
      "text/html": [
       "<div>\n",
       "<style scoped>\n",
       "    .dataframe tbody tr th:only-of-type {\n",
       "        vertical-align: middle;\n",
       "    }\n",
       "\n",
       "    .dataframe tbody tr th {\n",
       "        vertical-align: top;\n",
       "    }\n",
       "\n",
       "    .dataframe thead th {\n",
       "        text-align: right;\n",
       "    }\n",
       "</style>\n",
       "<table border=\"1\" class=\"dataframe\">\n",
       "  <thead>\n",
       "    <tr style=\"text-align: right;\">\n",
       "      <th></th>\n",
       "      <th>Apples</th>\n",
       "      <th>Bananas</th>\n",
       "    </tr>\n",
       "  </thead>\n",
       "  <tbody>\n",
       "    <tr>\n",
       "      <th>0</th>\n",
       "      <td>30</td>\n",
       "      <td>21</td>\n",
       "    </tr>\n",
       "  </tbody>\n",
       "</table>\n",
       "</div>"
      ],
      "text/plain": [
       "   Apples  Bananas\n",
       "0      30       21"
      ]
     },
     "execution_count": 35,
     "metadata": {},
     "output_type": "execute_result"
    }
   ],
   "source": [
    "fruits = pd.DataFrame([[30,21]], columns=['Apples',\"Bananas\"])\n",
    "\n",
    "fruits"
   ]
  },
  {
   "cell_type": "code",
   "execution_count": 36,
   "id": "074a5d29-28c3-4eee-9e50-551e5bb97fe4",
   "metadata": {},
   "outputs": [
    {
     "name": "stdout",
     "output_type": "stream",
     "text": [
      "            Apples  Bananas\n",
      "2017 Sales      35       21\n",
      "2018 Sales      41       34\n"
     ]
    }
   ],
   "source": [
    "fruit_sales = pd.DataFrame([[35, 21], [41, 34]], columns=['Apples', 'Bananas'],\n",
    "                index=['2017 Sales', '2018 Sales'])\n",
    "print(fruit_sales)"
   ]
  },
  {
   "cell_type": "code",
   "execution_count": 37,
   "id": "b626f19a-b2d2-4167-b5ef-5f6fd01db90f",
   "metadata": {},
   "outputs": [
    {
     "name": "stdout",
     "output_type": "stream",
     "text": [
      "Flour     4 cups\n",
      "Milk       1 cup\n",
      "Eggs     2 large\n",
      "Spam       1 can\n",
      "Name: Dinner, dtype: object\n"
     ]
    }
   ],
   "source": [
    "quantities = ['4 cups', '1 cup', '2 large', '1 can']\n",
    "items = ['Flour', 'Milk', 'Eggs', 'Spam']\n",
    "recipe = pd.Series(quantities, index=items, name='Dinner')\n",
    "\n",
    "print(recipe)"
   ]
  },
  {
   "cell_type": "code",
   "execution_count": 38,
   "id": "8c2cd33d-3679-4431-a130-ed12427f2163",
   "metadata": {},
   "outputs": [],
   "source": [
    "import pandas as pd\n",
    "reviews = pd.read_csv(\"winemag-data-130k-v2.csv\")"
   ]
  },
  {
   "cell_type": "code",
   "execution_count": 39,
   "id": "bf74acdd-457f-43be-8ffa-7814f12b1a09",
   "metadata": {},
   "outputs": [
    {
     "data": {
      "text/html": [
       "<div>\n",
       "<style scoped>\n",
       "    .dataframe tbody tr th:only-of-type {\n",
       "        vertical-align: middle;\n",
       "    }\n",
       "\n",
       "    .dataframe tbody tr th {\n",
       "        vertical-align: top;\n",
       "    }\n",
       "\n",
       "    .dataframe thead th {\n",
       "        text-align: right;\n",
       "    }\n",
       "</style>\n",
       "<table border=\"1\" class=\"dataframe\">\n",
       "  <thead>\n",
       "    <tr style=\"text-align: right;\">\n",
       "      <th></th>\n",
       "      <th>Unnamed: 0</th>\n",
       "      <th>country</th>\n",
       "      <th>description</th>\n",
       "      <th>designation</th>\n",
       "      <th>points</th>\n",
       "      <th>price</th>\n",
       "      <th>province</th>\n",
       "      <th>region_1</th>\n",
       "      <th>region_2</th>\n",
       "      <th>taster_name</th>\n",
       "      <th>taster_twitter_handle</th>\n",
       "      <th>title</th>\n",
       "      <th>variety</th>\n",
       "      <th>winery</th>\n",
       "    </tr>\n",
       "  </thead>\n",
       "  <tbody>\n",
       "    <tr>\n",
       "      <th>0</th>\n",
       "      <td>0</td>\n",
       "      <td>Italy</td>\n",
       "      <td>Aromas include tropical fruit, broom, brimston...</td>\n",
       "      <td>Vulkà Bianco</td>\n",
       "      <td>87</td>\n",
       "      <td>NaN</td>\n",
       "      <td>Sicily &amp; Sardinia</td>\n",
       "      <td>Etna</td>\n",
       "      <td>NaN</td>\n",
       "      <td>Kerin O’Keefe</td>\n",
       "      <td>@kerinokeefe</td>\n",
       "      <td>Nicosia 2013 Vulkà Bianco  (Etna)</td>\n",
       "      <td>White Blend</td>\n",
       "      <td>Nicosia</td>\n",
       "    </tr>\n",
       "    <tr>\n",
       "      <th>1</th>\n",
       "      <td>1</td>\n",
       "      <td>Portugal</td>\n",
       "      <td>This is ripe and fruity, a wine that is smooth...</td>\n",
       "      <td>Avidagos</td>\n",
       "      <td>87</td>\n",
       "      <td>15.0</td>\n",
       "      <td>Douro</td>\n",
       "      <td>NaN</td>\n",
       "      <td>NaN</td>\n",
       "      <td>Roger Voss</td>\n",
       "      <td>@vossroger</td>\n",
       "      <td>Quinta dos Avidagos 2011 Avidagos Red (Douro)</td>\n",
       "      <td>Portuguese Red</td>\n",
       "      <td>Quinta dos Avidagos</td>\n",
       "    </tr>\n",
       "    <tr>\n",
       "      <th>2</th>\n",
       "      <td>2</td>\n",
       "      <td>US</td>\n",
       "      <td>Tart and snappy, the flavors of lime flesh and...</td>\n",
       "      <td>NaN</td>\n",
       "      <td>87</td>\n",
       "      <td>14.0</td>\n",
       "      <td>Oregon</td>\n",
       "      <td>Willamette Valley</td>\n",
       "      <td>Willamette Valley</td>\n",
       "      <td>Paul Gregutt</td>\n",
       "      <td>@paulgwine</td>\n",
       "      <td>Rainstorm 2013 Pinot Gris (Willamette Valley)</td>\n",
       "      <td>Pinot Gris</td>\n",
       "      <td>Rainstorm</td>\n",
       "    </tr>\n",
       "    <tr>\n",
       "      <th>3</th>\n",
       "      <td>3</td>\n",
       "      <td>US</td>\n",
       "      <td>Pineapple rind, lemon pith and orange blossom ...</td>\n",
       "      <td>Reserve Late Harvest</td>\n",
       "      <td>87</td>\n",
       "      <td>13.0</td>\n",
       "      <td>Michigan</td>\n",
       "      <td>Lake Michigan Shore</td>\n",
       "      <td>NaN</td>\n",
       "      <td>Alexander Peartree</td>\n",
       "      <td>NaN</td>\n",
       "      <td>St. Julian 2013 Reserve Late Harvest Riesling ...</td>\n",
       "      <td>Riesling</td>\n",
       "      <td>St. Julian</td>\n",
       "    </tr>\n",
       "    <tr>\n",
       "      <th>4</th>\n",
       "      <td>4</td>\n",
       "      <td>US</td>\n",
       "      <td>Much like the regular bottling from 2012, this...</td>\n",
       "      <td>Vintner's Reserve Wild Child Block</td>\n",
       "      <td>87</td>\n",
       "      <td>65.0</td>\n",
       "      <td>Oregon</td>\n",
       "      <td>Willamette Valley</td>\n",
       "      <td>Willamette Valley</td>\n",
       "      <td>Paul Gregutt</td>\n",
       "      <td>@paulgwine</td>\n",
       "      <td>Sweet Cheeks 2012 Vintner's Reserve Wild Child...</td>\n",
       "      <td>Pinot Noir</td>\n",
       "      <td>Sweet Cheeks</td>\n",
       "    </tr>\n",
       "  </tbody>\n",
       "</table>\n",
       "</div>"
      ],
      "text/plain": [
       "   Unnamed: 0   country                                        description  \\\n",
       "0           0     Italy  Aromas include tropical fruit, broom, brimston...   \n",
       "1           1  Portugal  This is ripe and fruity, a wine that is smooth...   \n",
       "2           2        US  Tart and snappy, the flavors of lime flesh and...   \n",
       "3           3        US  Pineapple rind, lemon pith and orange blossom ...   \n",
       "4           4        US  Much like the regular bottling from 2012, this...   \n",
       "\n",
       "                          designation  points  price           province  \\\n",
       "0                        Vulkà Bianco      87    NaN  Sicily & Sardinia   \n",
       "1                            Avidagos      87   15.0              Douro   \n",
       "2                                 NaN      87   14.0             Oregon   \n",
       "3                Reserve Late Harvest      87   13.0           Michigan   \n",
       "4  Vintner's Reserve Wild Child Block      87   65.0             Oregon   \n",
       "\n",
       "              region_1           region_2         taster_name  \\\n",
       "0                 Etna                NaN       Kerin O’Keefe   \n",
       "1                  NaN                NaN          Roger Voss   \n",
       "2    Willamette Valley  Willamette Valley        Paul Gregutt   \n",
       "3  Lake Michigan Shore                NaN  Alexander Peartree   \n",
       "4    Willamette Valley  Willamette Valley        Paul Gregutt   \n",
       "\n",
       "  taster_twitter_handle                                              title  \\\n",
       "0          @kerinokeefe                  Nicosia 2013 Vulkà Bianco  (Etna)   \n",
       "1            @vossroger      Quinta dos Avidagos 2011 Avidagos Red (Douro)   \n",
       "2           @paulgwine       Rainstorm 2013 Pinot Gris (Willamette Valley)   \n",
       "3                   NaN  St. Julian 2013 Reserve Late Harvest Riesling ...   \n",
       "4           @paulgwine   Sweet Cheeks 2012 Vintner's Reserve Wild Child...   \n",
       "\n",
       "          variety               winery  \n",
       "0     White Blend              Nicosia  \n",
       "1  Portuguese Red  Quinta dos Avidagos  \n",
       "2      Pinot Gris            Rainstorm  \n",
       "3        Riesling           St. Julian  \n",
       "4      Pinot Noir         Sweet Cheeks  "
      ]
     },
     "execution_count": 39,
     "metadata": {},
     "output_type": "execute_result"
    }
   ],
   "source": [
    "reviews.head()"
   ]
  },
  {
   "cell_type": "code",
   "execution_count": 40,
   "id": "cad1784f-6620-4000-b927-6724dc02ca80",
   "metadata": {},
   "outputs": [
    {
     "name": "stdout",
     "output_type": "stream",
     "text": [
      "0         Aromas include tropical fruit, broom, brimston...\n",
      "1         This is ripe and fruity, a wine that is smooth...\n",
      "                                ...                        \n",
      "129969    A dry style of Pinot Gris, this is crisp with ...\n",
      "129970    Big, rich and off-dry, this is powered by inte...\n",
      "Name: description, Length: 129971, dtype: object\n"
     ]
    }
   ],
   "source": [
    "desc = reviews.description\n",
    "print(desc)"
   ]
  },
  {
   "cell_type": "code",
   "execution_count": 41,
   "id": "91e5312d-edb3-4cd8-bec1-b780ba4d4d3d",
   "metadata": {},
   "outputs": [
    {
     "name": "stdout",
     "output_type": "stream",
     "text": [
      "Aromas include tropical fruit, broom, brimstone and dried herb. The palate isn't overly expressive, offering unripened apple, citrus and dried sage alongside brisk acidity.\n"
     ]
    }
   ],
   "source": [
    "first_description = reviews.description.iloc[0]\n",
    "print(first_description)"
   ]
  },
  {
   "cell_type": "code",
   "execution_count": 42,
   "id": "e06f7dfa-196b-4b91-9dc6-cbd0a51891f6",
   "metadata": {},
   "outputs": [
    {
     "name": "stdout",
     "output_type": "stream",
     "text": [
      "Unnamed: 0              0\n",
      "country             Italy\n",
      "                 ...     \n",
      "variety       White Blend\n",
      "winery            Nicosia\n",
      "Name: 0, Length: 14, dtype: object\n"
     ]
    }
   ],
   "source": [
    "first_row = reviews.iloc[0]\n",
    "print(first_row)"
   ]
  },
  {
   "cell_type": "code",
   "execution_count": 43,
   "id": "5163eb65-7fc0-4c9c-9db0-4ce42f1f5f8b",
   "metadata": {},
   "outputs": [
    {
     "name": "stdout",
     "output_type": "stream",
     "text": [
      "0    Aromas include tropical fruit, broom, brimston...\n",
      "1    This is ripe and fruity, a wine that is smooth...\n",
      "                           ...                        \n",
      "8    Savory dried thyme notes accent sunnier flavor...\n",
      "9    This has great depth of flavor with its fresh ...\n",
      "Name: description, Length: 10, dtype: object\n"
     ]
    }
   ],
   "source": [
    "first_descriptions = reviews.description.iloc[:10]\n",
    "print(first_descriptions)"
   ]
  },
  {
   "cell_type": "code",
   "execution_count": 44,
   "id": "f1be6cd2-41b4-46d3-a6c0-36bb4ea23b97",
   "metadata": {},
   "outputs": [
    {
     "name": "stdout",
     "output_type": "stream",
     "text": [
      "   Unnamed: 0   country                                        description  \\\n",
      "1           1  Portugal  This is ripe and fruity, a wine that is smooth...   \n",
      "2           2        US  Tart and snappy, the flavors of lime flesh and...   \n",
      "3           3        US  Pineapple rind, lemon pith and orange blossom ...   \n",
      "5           5     Spain  Blackberry and raspberry aromas show a typical...   \n",
      "8           8   Germany  Savory dried thyme notes accent sunnier flavor...   \n",
      "\n",
      "            designation  points  price        province             region_1  \\\n",
      "1              Avidagos      87   15.0           Douro                  NaN   \n",
      "2                   NaN      87   14.0          Oregon    Willamette Valley   \n",
      "3  Reserve Late Harvest      87   13.0        Michigan  Lake Michigan Shore   \n",
      "5          Ars In Vitro      87   15.0  Northern Spain              Navarra   \n",
      "8                 Shine      87   12.0     Rheinhessen                  NaN   \n",
      "\n",
      "            region_2         taster_name taster_twitter_handle  \\\n",
      "1                NaN          Roger Voss            @vossroger   \n",
      "2  Willamette Valley        Paul Gregutt           @paulgwine    \n",
      "3                NaN  Alexander Peartree                   NaN   \n",
      "5                NaN   Michael Schachner           @wineschach   \n",
      "8                NaN  Anna Lee C. Iijima                   NaN   \n",
      "\n",
      "                                               title             variety  \\\n",
      "1      Quinta dos Avidagos 2011 Avidagos Red (Douro)      Portuguese Red   \n",
      "2      Rainstorm 2013 Pinot Gris (Willamette Valley)          Pinot Gris   \n",
      "3  St. Julian 2013 Reserve Late Harvest Riesling ...            Riesling   \n",
      "5  Tandem 2011 Ars In Vitro Tempranillo-Merlot (N...  Tempranillo-Merlot   \n",
      "8  Heinz Eifel 2013 Shine Gewürztraminer (Rheinhe...      Gewürztraminer   \n",
      "\n",
      "                winery  \n",
      "1  Quinta dos Avidagos  \n",
      "2            Rainstorm  \n",
      "3           St. Julian  \n",
      "5               Tandem  \n",
      "8          Heinz Eifel  \n"
     ]
    }
   ],
   "source": [
    "indices = [1, 2, 3, 5, 8]\n",
    "sample_reviews = reviews.loc[indices]\n",
    "print(sample_reviews)"
   ]
  },
  {
   "cell_type": "code",
   "execution_count": 45,
   "id": "34c232d1-2da4-4061-b331-77ccaa71a8ce",
   "metadata": {},
   "outputs": [
    {
     "name": "stdout",
     "output_type": "stream",
     "text": [
      "      country           province      region_1      region_2\n",
      "0       Italy  Sicily & Sardinia          Etna           NaN\n",
      "1    Portugal              Douro           NaN           NaN\n",
      "10         US         California   Napa Valley          Napa\n",
      "100        US           New York  Finger Lakes  Finger Lakes\n"
     ]
    }
   ],
   "source": [
    "cols = ['country', 'province', 'region_1', 'region_2']\n",
    "indices = [0, 1, 10, 100]\n",
    "df = reviews.loc[indices, cols]\n",
    "print(df)"
   ]
  },
  {
   "cell_type": "code",
   "execution_count": 46,
   "id": "d07cdf88-60ac-466e-9e9a-75c7935b42b5",
   "metadata": {},
   "outputs": [
    {
     "name": "stdout",
     "output_type": "stream",
     "text": [
      "    Unnamed: 0                                              title\n",
      "0            0                  Nicosia 2013 Vulkà Bianco  (Etna)\n",
      "1            1      Quinta dos Avidagos 2011 Avidagos Red (Douro)\n",
      "..         ...                                                ...\n",
      "98          98  Serpaia di Endrizzi 2010 Dono Riserva  (Morell...\n",
      "99          99  Soquel Vineyards 2013 Intreccio Library Select...\n",
      "\n",
      "[100 rows x 2 columns]\n"
     ]
    }
   ],
   "source": [
    "cols_idx = [0, 11]\n",
    "df = reviews.iloc[:100, cols_idx]\n",
    "print(df)"
   ]
  },
  {
   "cell_type": "code",
   "execution_count": 47,
   "id": "ee733b7d-d2ba-483f-8ea2-c293d892a2de",
   "metadata": {},
   "outputs": [
    {
     "name": "stdout",
     "output_type": "stream",
     "text": [
      "        Unnamed: 0 country                                        description  \\\n",
      "0                0   Italy  Aromas include tropical fruit, broom, brimston...   \n",
      "6                6   Italy  Here's a bright, informal red that opens with ...   \n",
      "...            ...     ...                                                ...   \n",
      "129961      129961   Italy  Intense aromas of wild cherry, baking spice, t...   \n",
      "129962      129962   Italy  Blackberry, cassis, grilled herb and toasted a...   \n",
      "\n",
      "                      designation  points  price           province  region_1  \\\n",
      "0                    Vulkà Bianco      87    NaN  Sicily & Sardinia      Etna   \n",
      "6                         Belsito      87   16.0  Sicily & Sardinia  Vittoria   \n",
      "...                           ...     ...    ...                ...       ...   \n",
      "129961                        NaN      90   30.0  Sicily & Sardinia   Sicilia   \n",
      "129962  Sàgana Tenuta San Giacomo      90   40.0  Sicily & Sardinia   Sicilia   \n",
      "\n",
      "       region_2    taster_name taster_twitter_handle  \\\n",
      "0           NaN  Kerin O’Keefe          @kerinokeefe   \n",
      "6           NaN  Kerin O’Keefe          @kerinokeefe   \n",
      "...         ...            ...                   ...   \n",
      "129961      NaN  Kerin O’Keefe          @kerinokeefe   \n",
      "129962      NaN  Kerin O’Keefe          @kerinokeefe   \n",
      "\n",
      "                                                    title       variety  \\\n",
      "0                       Nicosia 2013 Vulkà Bianco  (Etna)   White Blend   \n",
      "6        Terre di Giurfo 2013 Belsito Frappato (Vittoria)      Frappato   \n",
      "...                                                   ...           ...   \n",
      "129961                        COS 2013 Frappato (Sicilia)      Frappato   \n",
      "129962  Cusumano 2012 Sàgana Tenuta San Giacomo Nero d...  Nero d'Avola   \n",
      "\n",
      "                 winery  \n",
      "0               Nicosia  \n",
      "6       Terre di Giurfo  \n",
      "...                 ...  \n",
      "129961              COS  \n",
      "129962         Cusumano  \n",
      "\n",
      "[19540 rows x 14 columns]\n"
     ]
    }
   ],
   "source": [
    "italian_wines = reviews[reviews.country == 'Italy']\n",
    "print(italian_wines)"
   ]
  },
  {
   "cell_type": "code",
   "execution_count": 48,
   "id": "7868eb1f-ddfd-4718-8630-62d847ef9c94",
   "metadata": {},
   "outputs": [
    {
     "name": "stdout",
     "output_type": "stream",
     "text": [
      "        Unnamed: 0      country  \\\n",
      "345            345    Australia   \n",
      "346            346    Australia   \n",
      "...            ...          ...   \n",
      "122507      122507  New Zealand   \n",
      "122939      122939    Australia   \n",
      "\n",
      "                                              description  \\\n",
      "345     This wine contains some material over 100 year...   \n",
      "346     This deep brown wine smells like a damp, mossy...   \n",
      "...                                                   ...   \n",
      "122507  This blend of Cabernet Sauvignon (62.5%), Merl...   \n",
      "122939  Full-bodied and plush yet vibrant and imbued w...   \n",
      "\n",
      "                                  designation  points  price         province  \\\n",
      "345                                      Rare     100  350.0         Victoria   \n",
      "346                                      Rare      98  350.0         Victoria   \n",
      "...                                       ...     ...    ...              ...   \n",
      "122507  SQM Gimblett Gravels Cabernets/Merlot      95   79.0      Hawke's Bay   \n",
      "122939                             The Factor      98  125.0  South Australia   \n",
      "\n",
      "              region_1 region_2     taster_name taster_twitter_handle  \\\n",
      "345         Rutherglen      NaN  Joe Czerwinski                @JoeCz   \n",
      "346         Rutherglen      NaN  Joe Czerwinski                @JoeCz   \n",
      "...                ...      ...             ...                   ...   \n",
      "122507             NaN      NaN  Joe Czerwinski                @JoeCz   \n",
      "122939  Barossa Valley      NaN  Joe Czerwinski                @JoeCz   \n",
      "\n",
      "                                                    title  \\\n",
      "345     Chambers Rosewood Vineyards NV Rare Muscat (Ru...   \n",
      "346     Chambers Rosewood Vineyards NV Rare Muscadelle...   \n",
      "...                                                   ...   \n",
      "122507  Squawking Magpie 2014 SQM Gimblett Gravels Cab...   \n",
      "122939   Torbreck 2013 The Factor Shiraz (Barossa Valley)   \n",
      "\n",
      "                         variety                       winery  \n",
      "345                       Muscat  Chambers Rosewood Vineyards  \n",
      "346                   Muscadelle  Chambers Rosewood Vineyards  \n",
      "...                          ...                          ...  \n",
      "122507  Bordeaux-style Red Blend             Squawking Magpie  \n",
      "122939                    Shiraz                     Torbreck  \n",
      "\n",
      "[49 rows x 14 columns]\n"
     ]
    }
   ],
   "source": [
    "top_oceania_wines = reviews.loc[\n",
    "    (reviews.country.isin(['Australia', 'New Zealand']))\n",
    "    & (reviews.points >= 95)\n",
    "]\n",
    "print(top_oceania_wines)"
   ]
  },
  {
   "cell_type": "code",
   "execution_count": 49,
   "id": "7bdec208-3b47-495f-b89f-af9f6aa511ea",
   "metadata": {},
   "outputs": [
    {
     "name": "stdout",
     "output_type": "stream",
     "text": [
      "88.0\n"
     ]
    }
   ],
   "source": [
    "median_points = reviews.points.median()\n",
    "print(median_points)"
   ]
  },
  {
   "cell_type": "code",
   "execution_count": 50,
   "id": "955e487d-c5dc-408c-bc00-f0e559b98bd8",
   "metadata": {},
   "outputs": [
    {
     "name": "stdout",
     "output_type": "stream",
     "text": [
      "['Italy' 'Portugal' 'US' 'Spain' 'France' 'Germany' 'Argentina' 'Chile'\n",
      " 'Australia' 'Austria' 'South Africa' 'New Zealand' 'Israel' 'Hungary'\n",
      " 'Greece' 'Romania' 'Mexico' 'Canada' nan 'Turkey' 'Czech Republic'\n",
      " 'Slovenia' 'Luxembourg' 'Croatia' 'Georgia' 'Uruguay' 'England' 'Lebanon'\n",
      " 'Serbia' 'Brazil' 'Moldova' 'Morocco' 'Peru' 'India' 'Bulgaria' 'Cyprus'\n",
      " 'Armenia' 'Switzerland' 'Bosnia and Herzegovina' 'Ukraine' 'Slovakia'\n",
      " 'Macedonia' 'China' 'Egypt']\n"
     ]
    }
   ],
   "source": [
    "countries = reviews.country.unique()\n",
    "print(countries)"
   ]
  },
  {
   "cell_type": "code",
   "execution_count": 51,
   "id": "30b09728-37d7-44fe-8aee-417c65349afc",
   "metadata": {},
   "outputs": [
    {
     "name": "stdout",
     "output_type": "stream",
     "text": [
      "country\n",
      "US        54504\n",
      "France    22093\n",
      "          ...  \n",
      "China         1\n",
      "Egypt         1\n",
      "Name: count, Length: 43, dtype: int64\n"
     ]
    }
   ],
   "source": [
    "reviews_per_country = reviews.country.value_counts()\n",
    "print(reviews_per_country)"
   ]
  },
  {
   "cell_type": "code",
   "execution_count": 52,
   "id": "143cb6d1-2d40-4976-ad4d-37906fd7753e",
   "metadata": {},
   "outputs": [
    {
     "name": "stdout",
     "output_type": "stream",
     "text": [
      "0               NaN\n",
      "1        -20.363389\n",
      "            ...    \n",
      "129969    -3.363389\n",
      "129970   -14.363389\n",
      "Name: price, Length: 129971, dtype: float64\n"
     ]
    }
   ],
   "source": [
    "centered_price = reviews.price - reviews.price.mean()\n",
    "print(centered_price)"
   ]
  },
  {
   "cell_type": "code",
   "execution_count": 53,
   "id": "8f5ca9b7-13ab-46e1-9e74-599f6ad48f80",
   "metadata": {},
   "outputs": [
    {
     "name": "stdout",
     "output_type": "stream",
     "text": [
      "Bandit NV Merlot (California)\n"
     ]
    }
   ],
   "source": [
    "bargain_idx = (reviews.points / reviews.price).idxmax()\n",
    "bargain_wine = reviews.loc[bargain_idx, 'title']\n",
    "print(bargain_wine)"
   ]
  },
  {
   "cell_type": "code",
   "execution_count": 54,
   "id": "ec84df17-9e5b-4e54-87bc-374dcfe8f3a4",
   "metadata": {},
   "outputs": [
    {
     "name": "stdout",
     "output_type": "stream",
     "text": [
      "tropical    3607\n",
      "fruity      9090\n",
      "dtype: int64\n"
     ]
    }
   ],
   "source": [
    "n_trop = reviews.description.map(lambda desc: \"tropical\" in desc).sum()\n",
    "n_fruity = reviews.description.map(lambda desc: \"fruity\" in desc).sum()\n",
    "descriptor_counts = pd.Series([n_trop, n_fruity], index=['tropical', 'fruity'])\n",
    "print(descriptor_counts)"
   ]
  },
  {
   "cell_type": "code",
   "execution_count": 55,
   "id": "570aa878-75f9-4424-b467-a45ea7067895",
   "metadata": {},
   "outputs": [
    {
     "name": "stdout",
     "output_type": "stream",
     "text": [
      "0         2\n",
      "1         2\n",
      "         ..\n",
      "129969    2\n",
      "129970    2\n",
      "Length: 129971, dtype: int64\n"
     ]
    }
   ],
   "source": [
    "def stars(row):\n",
    "    if row.country == 'Canada':\n",
    "        return 3\n",
    "    elif row.points >= 95:\n",
    "        return 3\n",
    "    elif row.points >= 85:\n",
    "        return 2\n",
    "    else:\n",
    "        return 1\n",
    "    \n",
    "star_ratings = reviews.apply(stars, axis='columns')\n",
    "print(star_ratings)"
   ]
  },
  {
   "cell_type": "code",
   "execution_count": 56,
   "id": "b43ce00b-d064-4a26-a0ee-6eded8ec52ac",
   "metadata": {},
   "outputs": [
    {
     "name": "stdout",
     "output_type": "stream",
     "text": [
      "taster_twitter_handle\n",
      "@AnneInVino        3685\n",
      "@JoeCz             5147\n",
      "                   ... \n",
      "@winewchristina       6\n",
      "@worldwineguys     1005\n",
      "Length: 15, dtype: int64\n",
      "int64\n"
     ]
    }
   ],
   "source": [
    "reviews_written = reviews.groupby('taster_twitter_handle').size()\n",
    "print(reviews_written)\n",
    "print(dtype)"
   ]
  },
  {
   "cell_type": "code",
   "execution_count": 57,
   "id": "fc0794d8-bb30-4f9a-90dc-f575055639fe",
   "metadata": {},
   "outputs": [
    {
     "name": "stdout",
     "output_type": "stream",
     "text": [
      "price\n",
      "4.0       86\n",
      "5.0       87\n",
      "          ..\n",
      "2500.0    96\n",
      "3300.0    88\n",
      "Name: points, Length: 390, dtype: int64\n"
     ]
    }
   ],
   "source": [
    "best_rating_per_price = reviews.groupby('price')['points'].max().sort_index()\n",
    "print(best_rating_per_price)"
   ]
  },
  {
   "cell_type": "code",
   "execution_count": 58,
   "id": "128488cd-fdf0-4a31-9ce8-522656c74790",
   "metadata": {},
   "outputs": [
    {
     "name": "stdout",
     "output_type": "stream",
     "text": [
      "              min   max\n",
      "variety                \n",
      "Abouriou     15.0  75.0\n",
      "Agiorgitiko  10.0  66.0\n",
      "...           ...   ...\n",
      "Çalkarası    19.0  19.0\n",
      "Žilavka      15.0  15.0\n",
      "\n",
      "[707 rows x 2 columns]\n"
     ]
    },
    {
     "name": "stderr",
     "output_type": "stream",
     "text": [
      "C:\\Users\\Zohaib\\AppData\\Local\\Temp\\ipykernel_16132\\374236603.py:1: FutureWarning: The provided callable <built-in function min> is currently using SeriesGroupBy.min. In a future version of pandas, the provided callable will be used directly. To keep current behavior pass the string \"min\" instead.\n",
      "  price_extremes = reviews.groupby('variety').price.agg([min, max])\n",
      "C:\\Users\\Zohaib\\AppData\\Local\\Temp\\ipykernel_16132\\374236603.py:1: FutureWarning: The provided callable <built-in function max> is currently using SeriesGroupBy.max. In a future version of pandas, the provided callable will be used directly. To keep current behavior pass the string \"max\" instead.\n",
      "  price_extremes = reviews.groupby('variety').price.agg([min, max])\n"
     ]
    }
   ],
   "source": [
    "price_extremes = reviews.groupby('variety').price.agg([min, max])\n",
    "print(price_extremes)"
   ]
  },
  {
   "cell_type": "code",
   "execution_count": 59,
   "id": "38adddaf-96ac-4405-83e2-b06576a8f683",
   "metadata": {},
   "outputs": [
    {
     "name": "stdout",
     "output_type": "stream",
     "text": [
      "             min    max\n",
      "variety                \n",
      "Ramisco    495.0  495.0\n",
      "Terrantez  236.0  236.0\n",
      "...          ...    ...\n",
      "Vital        NaN    NaN\n",
      "Zelen        NaN    NaN\n",
      "\n",
      "[707 rows x 2 columns]\n"
     ]
    }
   ],
   "source": [
    "sorted_varieties = price_extremes.sort_values(by=['min', 'max'], ascending=False)\n",
    "print(sorted_varieties)"
   ]
  },
  {
   "cell_type": "code",
   "execution_count": 60,
   "id": "e170bd22-17fe-4e5f-817d-5f552569e3d4",
   "metadata": {},
   "outputs": [
    {
     "name": "stdout",
     "output_type": "stream",
     "text": [
      "taster_name\n",
      "Alexander Peartree    85.855422\n",
      "Anna Lee C. Iijima    88.415629\n",
      "                        ...    \n",
      "Susan Kostrzewa       86.609217\n",
      "Virginie Boone        89.213379\n",
      "Name: points, Length: 19, dtype: float64\n"
     ]
    }
   ],
   "source": [
    "reviewer_mean_ratings = reviews.groupby('taster_name').points.mean()\n",
    "print(reviewer_mean_ratings)"
   ]
  },
  {
   "cell_type": "code",
   "execution_count": 61,
   "id": "811672ae-ccca-48cb-b4ce-b00785369221",
   "metadata": {},
   "outputs": [
    {
     "name": "stdout",
     "output_type": "stream",
     "text": [
      "country  variety           \n",
      "US       Pinot Noir            9885\n",
      "         Cabernet Sauvignon    7315\n",
      "                               ... \n",
      "Italy    Catalanesca              1\n",
      "         Carmenère                1\n",
      "Length: 1612, dtype: int64\n"
     ]
    }
   ],
   "source": [
    "country_variety_counts = reviews.groupby(['country', 'variety']).size().sort_values(ascending=False)\n",
    "print(country_variety_counts)"
   ]
  },
  {
   "cell_type": "code",
   "execution_count": 62,
   "id": "4ce3e433-34fa-490f-b565-ad2ea37deca8",
   "metadata": {},
   "outputs": [
    {
     "name": "stdout",
     "output_type": "stream",
     "text": [
      "int64\n"
     ]
    }
   ],
   "source": [
    "dtype = reviews.points.dtype\n",
    "print(dtype)"
   ]
  },
  {
   "cell_type": "code",
   "execution_count": 63,
   "id": "87ac9ef1-11e6-4492-88c6-e212528099fc",
   "metadata": {},
   "outputs": [
    {
     "name": "stdout",
     "output_type": "stream",
     "text": [
      "0         87\n",
      "1         87\n",
      "          ..\n",
      "129969    90\n",
      "129970    90\n",
      "Name: points, Length: 129971, dtype: object\n"
     ]
    }
   ],
   "source": [
    "point_strings = reviews.points.astype(str)\n",
    "print(point_strings)"
   ]
  },
  {
   "cell_type": "code",
   "execution_count": 64,
   "id": "67ae7d43-4c71-4eb4-a96e-a40ee6155368",
   "metadata": {},
   "outputs": [
    {
     "name": "stdout",
     "output_type": "stream",
     "text": [
      "8996\n",
      "8996\n",
      "8996\n"
     ]
    }
   ],
   "source": [
    "missing_price_reviews = reviews[reviews.price.isnull()]\n",
    "n_missing_prices = len(missing_price_reviews)\n",
    "print(n_missing_prices)\n",
    "n_missing_prices = reviews.price.isnull().sum()\n",
    "print(n_missing_prices)\n",
    "n_missing_prices = pd.isnull(reviews.price).sum()\n",
    "print(n_missing_prices)"
   ]
  },
  {
   "cell_type": "code",
   "execution_count": 65,
   "id": "f52db85c-5d49-416a-900b-6fe9d05b7513",
   "metadata": {},
   "outputs": [
    {
     "name": "stdout",
     "output_type": "stream",
     "text": [
      "region_1\n",
      "Unknown                21247\n",
      "Napa Valley             4480\n",
      "                       ...  \n",
      "Bardolino Superiore        1\n",
      "Paestum                    1\n",
      "Name: count, Length: 1230, dtype: int64\n"
     ]
    }
   ],
   "source": [
    "reviews_per_region = reviews.region_1.fillna('Unknown').value_counts().sort_values(ascending=False)\n",
    "print(reviews_per_region)"
   ]
  },
  {
   "cell_type": "code",
   "execution_count": 66,
   "id": "4f853dbd-caec-41c6-ad52-a06e232037df",
   "metadata": {},
   "outputs": [
    {
     "name": "stdout",
     "output_type": "stream",
     "text": [
      "        Unnamed: 0   country  \\\n",
      "0                0     Italy   \n",
      "1                1  Portugal   \n",
      "...            ...       ...   \n",
      "129969      129969    France   \n",
      "129970      129970    France   \n",
      "\n",
      "                                              description  \\\n",
      "0       Aromas include tropical fruit, broom, brimston...   \n",
      "1       This is ripe and fruity, a wine that is smooth...   \n",
      "...                                                   ...   \n",
      "129969  A dry style of Pinot Gris, this is crisp with ...   \n",
      "129970  Big, rich and off-dry, this is powered by inte...   \n",
      "\n",
      "                          designation  points  price           province  \\\n",
      "0                        Vulkà Bianco      87    NaN  Sicily & Sardinia   \n",
      "1                            Avidagos      87   15.0              Douro   \n",
      "...                               ...     ...    ...                ...   \n",
      "129969                            NaN      90   32.0             Alsace   \n",
      "129970  Lieu-dit Harth Cuvée Caroline      90   21.0             Alsace   \n",
      "\n",
      "        region locale    taster_name taster_twitter_handle  \\\n",
      "0         Etna    NaN  Kerin O’Keefe          @kerinokeefe   \n",
      "1          NaN    NaN     Roger Voss            @vossroger   \n",
      "...        ...    ...            ...                   ...   \n",
      "129969  Alsace    NaN     Roger Voss            @vossroger   \n",
      "129970  Alsace    NaN     Roger Voss            @vossroger   \n",
      "\n",
      "                                                    title         variety  \\\n",
      "0                       Nicosia 2013 Vulkà Bianco  (Etna)     White Blend   \n",
      "1           Quinta dos Avidagos 2011 Avidagos Red (Douro)  Portuguese Red   \n",
      "...                                                   ...             ...   \n",
      "129969      Domaine Marcel Deiss 2012 Pinot Gris (Alsace)      Pinot Gris   \n",
      "129970  Domaine Schoffit 2012 Lieu-dit Harth Cuvée Car...  Gewürztraminer   \n",
      "\n",
      "                      winery  \n",
      "0                    Nicosia  \n",
      "1        Quinta dos Avidagos  \n",
      "...                      ...  \n",
      "129969  Domaine Marcel Deiss  \n",
      "129970      Domaine Schoffit  \n",
      "\n",
      "[129971 rows x 14 columns]\n"
     ]
    }
   ],
   "source": [
    "renamed = reviews.rename(columns=dict(region_1='region', region_2='locale'))\n",
    "print(renamed)"
   ]
  },
  {
   "cell_type": "code",
   "execution_count": 67,
   "id": "4d99ded2-0e32-478c-a3b6-6f54f7d6ad4f",
   "metadata": {},
   "outputs": [
    {
     "name": "stdout",
     "output_type": "stream",
     "text": [
      "        Unnamed: 0   country  \\\n",
      "wines                          \n",
      "0                0     Italy   \n",
      "1                1  Portugal   \n",
      "...            ...       ...   \n",
      "129969      129969    France   \n",
      "129970      129970    France   \n",
      "\n",
      "                                              description  \\\n",
      "wines                                                       \n",
      "0       Aromas include tropical fruit, broom, brimston...   \n",
      "1       This is ripe and fruity, a wine that is smooth...   \n",
      "...                                                   ...   \n",
      "129969  A dry style of Pinot Gris, this is crisp with ...   \n",
      "129970  Big, rich and off-dry, this is powered by inte...   \n",
      "\n",
      "                          designation  points  price           province  \\\n",
      "wines                                                                     \n",
      "0                        Vulkà Bianco      87    NaN  Sicily & Sardinia   \n",
      "1                            Avidagos      87   15.0              Douro   \n",
      "...                               ...     ...    ...                ...   \n",
      "129969                            NaN      90   32.0             Alsace   \n",
      "129970  Lieu-dit Harth Cuvée Caroline      90   21.0             Alsace   \n",
      "\n",
      "       region_1 region_2    taster_name taster_twitter_handle  \\\n",
      "wines                                                           \n",
      "0          Etna      NaN  Kerin O’Keefe          @kerinokeefe   \n",
      "1           NaN      NaN     Roger Voss            @vossroger   \n",
      "...         ...      ...            ...                   ...   \n",
      "129969   Alsace      NaN     Roger Voss            @vossroger   \n",
      "129970   Alsace      NaN     Roger Voss            @vossroger   \n",
      "\n",
      "                                                    title         variety  \\\n",
      "wines                                                                       \n",
      "0                       Nicosia 2013 Vulkà Bianco  (Etna)     White Blend   \n",
      "1           Quinta dos Avidagos 2011 Avidagos Red (Douro)  Portuguese Red   \n",
      "...                                                   ...             ...   \n",
      "129969      Domaine Marcel Deiss 2012 Pinot Gris (Alsace)      Pinot Gris   \n",
      "129970  Domaine Schoffit 2012 Lieu-dit Harth Cuvée Car...  Gewürztraminer   \n",
      "\n",
      "                      winery  \n",
      "wines                         \n",
      "0                    Nicosia  \n",
      "1        Quinta dos Avidagos  \n",
      "...                      ...  \n",
      "129969  Domaine Marcel Deiss  \n",
      "129970      Domaine Schoffit  \n",
      "\n",
      "[129971 rows x 14 columns]\n"
     ]
    }
   ],
   "source": [
    "reindexed = reviews.rename_axis('wines', axis='rows')\n",
    "print(reindexed)"
   ]
  },
  {
   "cell_type": "code",
   "execution_count": null,
   "id": "c275296a-c4a3-48bf-a922-1e11e82916e9",
   "metadata": {},
   "outputs": [],
   "source": []
  }
 ],
 "metadata": {
  "kernelspec": {
   "display_name": "Python 3 (ipykernel)",
   "language": "python",
   "name": "python3"
  },
  "language_info": {
   "codemirror_mode": {
    "name": "ipython",
    "version": 3
   },
   "file_extension": ".py",
   "mimetype": "text/x-python",
   "name": "python",
   "nbconvert_exporter": "python",
   "pygments_lexer": "ipython3",
   "version": "3.13.3"
  }
 },
 "nbformat": 4,
 "nbformat_minor": 5
}
